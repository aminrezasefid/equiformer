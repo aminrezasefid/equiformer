{
 "cells": [
  {
   "cell_type": "code",
   "execution_count": 2,
   "metadata": {},
   "outputs": [
    {
     "ename": "Error",
     "evalue": "The following operation failed in the TorchScript interpreter.\nTraceback of TorchScript (most recent call last):\n  File \"/home/amin/miniconda3/envs/equiformer/lib/python3.8/site-packages/torch_geometric/utils/softmax.py\", line 47, in softmax\n        out_sum = out_sum.index_select(dim, index)\n    else:\n        raise NotImplementedError\n        ~~~~~~~~~~~~~~~~~~~~~~~~~ <--- HERE\n\n    return out / (out_sum + 1e-16)\nRuntimeError: \n",
     "output_type": "error",
     "traceback": [
      "\u001b[0;31m---------------------------------------------------------------------------\u001b[0m",
      "\u001b[0;31mError\u001b[0m                                     Traceback (most recent call last)",
      "Cell \u001b[0;32mIn[2], line 6\u001b[0m\n\u001b[1;32m      3\u001b[0m \u001b[38;5;28;01mimport\u001b[39;00m \u001b[38;5;21;01mtorch_geometric\u001b[39;00m\u001b[38;5;21;01m.\u001b[39;00m\u001b[38;5;21;01mutils\u001b[39;00m\n\u001b[1;32m      5\u001b[0m a \u001b[38;5;241m=\u001b[39m torch\u001b[38;5;241m.\u001b[39mtensor([\u001b[38;5;241m2\u001b[39m, \u001b[38;5;241m2\u001b[39m, \u001b[38;5;241m3\u001b[39m])\u001b[38;5;241m.\u001b[39mcuda(\u001b[38;5;241m0\u001b[39m)\n\u001b[0;32m----> 6\u001b[0m \u001b[43mtorch_geometric\u001b[49m\u001b[38;5;241;43m.\u001b[39;49m\u001b[43mutils\u001b[49m\u001b[38;5;241;43m.\u001b[39;49m\u001b[43msoftmax\u001b[49m\u001b[43m(\u001b[49m\u001b[43ma\u001b[49m\u001b[43m)\u001b[49m\n\u001b[1;32m      7\u001b[0m \u001b[38;5;28mprint\u001b[39m(a\u001b[38;5;241m.\u001b[39mprod())\n",
      "\u001b[0;31mError\u001b[0m: The following operation failed in the TorchScript interpreter.\nTraceback of TorchScript (most recent call last):\n  File \"/home/amin/miniconda3/envs/equiformer/lib/python3.8/site-packages/torch_geometric/utils/softmax.py\", line 47, in softmax\n        out_sum = out_sum.index_select(dim, index)\n    else:\n        raise NotImplementedError\n        ~~~~~~~~~~~~~~~~~~~~~~~~~ <--- HERE\n\n    return out / (out_sum + 1e-16)\nRuntimeError: \n"
     ]
    }
   ],
   "source": [
    "import torch\n",
    "import torch_geometric\n",
    "import torch_geometric.utils\n",
    "\n",
    "a = torch.tensor([2, 2, 3]).cuda(0)\n",
    "torch_geometric.utils.softmax(a)\n",
    "print(a.prod())"
   ]
  },
  {
   "cell_type": "code",
   "execution_count": 1,
   "metadata": {},
   "outputs": [],
   "source": [
    "import time\n",
    "import torch\n",
    "import numpy as np\n",
    "from torch_geometric.loader import DataLoader\n",
    "\n",
    "import os\n",
    "os.environ[\"export PYTHONNOUSERSITE\"]=\"True\"\n",
    "from logger import FileLogger\n",
    "from pathlib import Path\n",
    "from datasets.datamodule import DataModule\n",
    "from datasets.pyg.qm9 import QM9\n",
    "from datasets.pyg.qm7 import QM7\n",
    "\n",
    "#from torch_geometric.datasets import QM9\n",
    "#from torch_geometric.nn import SchNet\n",
    "\n",
    "# AMP\n",
    "from contextlib import suppress\n",
    "from timm.utils import NativeScaler\n",
    "\n",
    "import nets\n",
    "from nets import model_entrypoint\n",
    "\n",
    "from timm.utils import ModelEmaV2\n",
    "from timm.scheduler import create_scheduler\n",
    "from optim_factory import create_optimizer\n",
    "\n",
    "from engine import train_one_epoch, evaluate, compute_stats\n",
    "\n",
    "# distributed training\n",
    "import utils\n",
    "\n",
    "ModelEma = ModelEmaV2\n",
    "#dataset=QM7(\"./data\",None,None,None,None,\"precise3d\",[\"u0_atom\"])"
   ]
  },
  {
   "cell_type": "code",
   "execution_count": 11,
   "metadata": {},
   "outputs": [
    {
     "name": "stderr",
     "output_type": "stream",
     "text": [
      "RDKit WARNING: [21:55:42] WARNING: not removing hydrogen atom without neighbors\n",
      "RDKit WARNING: [21:55:42] WARNING: not removing hydrogen atom without neighbors\n",
      "[21:55:42] WARNING: not removing hydrogen atom without neighbors\n",
      "[21:55:42] WARNING: not removing hydrogen atom without neighbors\n",
      "computing mean and std:   0%|          | 0/342 [00:00<?, ?it/s]"
     ]
    },
    {
     "name": "stdout",
     "output_type": "stream",
     "text": [
      "train 5467, val 686, test 681\n"
     ]
    },
    {
     "name": "stderr",
     "output_type": "stream",
     "text": [
      "computing mean and std: 100%|██████████| 342/342 [00:04<00:00, 78.83it/s]\n"
     ]
    }
   ],
   "source": [
    "args={}\n",
    "args[\"dataset\"]=\"QM7\"\n",
    "args[\"dataset_root\"]=\"./data/qm7\"\n",
    "args[\"structure\"]=\"precise3d\"\n",
    "args[\"dataset_args\"]=[\"u0_atom\"]\n",
    "args[\"split\"]=\"scaffold\"\n",
    "args[\"train_size\"]=0.8\n",
    "args[\"val_size\"]=0.1\n",
    "args[\"test_size\"]=0.1\n",
    "args[\"standardize\"]=True\n",
    "args[\"batch_size\"]=16\n",
    "args[\"inference_batch_size\"]=16\n",
    "args[\"num_workers\"]=3\n",
    "data = DataModule(args)\n",
    "data.setup()"
   ]
  },
  {
   "cell_type": "code",
   "execution_count": 18,
   "metadata": {},
   "outputs": [
    {
     "data": {
      "text/plain": [
       "1"
      ]
     },
     "execution_count": 18,
     "metadata": {},
     "output_type": "execute_result"
    }
   ],
   "source": [
    "data.dataset[0].y.shape[1]"
   ]
  },
  {
   "cell_type": "code",
   "execution_count": null,
   "metadata": {},
   "outputs": [],
   "source": []
  }
 ],
 "metadata": {
  "kernelspec": {
   "display_name": "equiformer",
   "language": "python",
   "name": "python3"
  },
  "language_info": {
   "codemirror_mode": {
    "name": "ipython",
    "version": 3
   },
   "file_extension": ".py",
   "mimetype": "text/x-python",
   "name": "python",
   "nbconvert_exporter": "python",
   "pygments_lexer": "ipython3",
   "version": "3.8.13"
  }
 },
 "nbformat": 4,
 "nbformat_minor": 2
}
