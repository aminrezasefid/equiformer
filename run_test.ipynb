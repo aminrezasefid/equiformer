{
 "cells": [
  {
   "cell_type": "code",
   "execution_count": 5,
   "metadata": {},
   "outputs": [
    {
     "name": "stdout",
     "output_type": "stream",
     "text": [
      "\n",
      "Structure: precise3d\n",
      "p_np AUC: 0.6950\n"
     ]
    }
   ],
   "source": [
    "import pandas as pd\n",
    "from sklearn.metrics import roc_auc_score\n",
    "\n",
    "def calculate_auc(df, tasks):\n",
    "    \"\"\"\n",
    "    Calculate AUC for each task in the dataframe\n",
    "    \n",
    "    Args:\n",
    "        df (pd.DataFrame): DataFrame containing predictions and actual values\n",
    "        tasks (list): List of task names\n",
    "    \n",
    "    Returns:\n",
    "        dict: Dictionary of task names and their AUC scores\n",
    "    \"\"\"\n",
    "    auc_scores = {}\n",
    "    \n",
    "    for task in tasks:\n",
    "        # Get actual and predicted values\n",
    "        y_true = df[f'actual_{task}']\n",
    "        y_pred = df[f'logit_{task}']\n",
    "        \n",
    "        try:\n",
    "            # Calculate AUC\n",
    "            auc = roc_auc_score(y_true, y_pred)\n",
    "            auc_scores[task] = auc\n",
    "        except Exception as e:\n",
    "            print(f\"Error calculating AUC for {task}: {e}\")\n",
    "            auc_scores[task] = None\n",
    "            \n",
    "    return auc_scores\n",
    "\n",
    "# Use your existing code to read the files and get tasks\n",
    "structure_list = [\"precise3d\",]\n",
    "dataset = \"BBBP\"  # Changed to BBBP based on your CSV example\n",
    "\n",
    "for structure in structure_list:\n",
    "    print(f\"\\nStructure: {structure}\")\n",
    "    \n",
    "    # Read the CSV file\n",
    "    df = pd.read_csv(f\"/home/amin/equiformer/output/{dataset}-{structure}/test_results.csv\")\n",
    "    tasks = [\"p_np\"]\n",
    "    \n",
    "    # Calculate AUC scores\n",
    "    auc_scores = calculate_auc(df, tasks)\n",
    "    \n",
    "    # Print results\n",
    "    for task, auc in auc_scores.items():\n",
    "        if auc is not None:\n",
    "            print(f\"{task} AUC: {auc:.4f}\")"
   ]
  },
  {
   "cell_type": "code",
   "execution_count": 15,
   "metadata": {},
   "outputs": [
    {
     "data": {
      "text/plain": [
       "-0.23997669940620683"
      ]
     },
     "execution_count": 15,
     "metadata": {},
     "output_type": "execute_result"
    }
   ],
   "source": [
    "df=pd.read_csv(\"/home/amin/equiformer/data/qm9-precise3d/raw/gdb9.sdf.csv\")\n",
    "df[\"homo\"].mean()"
   ]
  },
  {
   "cell_type": "code",
   "execution_count": 7,
   "metadata": {},
   "outputs": [],
   "source": [
    "def get_tasks(df):\n",
    "    # Get column names that start with 'pred_', 'actual_', or 'diff_'\n",
    "    pred_cols = [col for col in df.columns if col.startswith('pred_')]\n",
    "    tasks = [col.replace('pred_','') for col in pred_cols]\n",
    "    \n",
    "    return tasks"
   ]
  },
  {
   "cell_type": "code",
   "execution_count": 9,
   "metadata": {},
   "outputs": [
    {
     "name": "stdout",
     "output_type": "stream",
     "text": [
      "structure precise3d-measured log solubility in mols per litre:0.6990828288679246\n",
      "structure precise3d:0.6990828288679246\n",
      "structure optimized3d-measured log solubility in mols per litre:0.7139583149469027\n",
      "structure optimized3d:0.7139583149469027\n",
      "structure rdkit3d-measured log solubility in mols per litre:0.6585405857247787\n",
      "structure rdkit3d:0.6585405857247787\n",
      "structure rdkit2d-measured log solubility in mols per litre:0.6637784696371681\n",
      "structure rdkit2d:0.6637784696371681\n"
     ]
    }
   ],
   "source": [
    "structure_list=[\"precise3d\",\"optimized3d\",\"rdkit3d\",\"rdkit2d\"]\n",
    "dataset=\"Esol\"\n",
    "for structure in structure_list:\n",
    "    df=pd.read_csv(f\"/home/amin/equiformer/scripts/output/{dataset}-{structure}/test_results.csv\")\n",
    "    tasks=get_tasks(df)\n",
    "    dataset_error=0\n",
    "    for task in tasks:\n",
    "        task_error=df[f'diff_{task}'].abs().mean()\n",
    "        dataset_error+=task_error\n",
    "        print(f\"structure {structure}-{task}:{task_error}\")\n",
    "    print(f\"structure {structure}:{dataset_error/len(tasks)}\")"
   ]
  },
  {
   "cell_type": "code",
   "execution_count": 6,
   "metadata": {},
   "outputs": [
    {
     "data": {
      "text/plain": [
       "86.47916823550662"
      ]
     },
     "execution_count": 6,
     "metadata": {},
     "output_type": "execute_result"
    }
   ],
   "source": []
  },
  {
   "cell_type": "code",
   "execution_count": null,
   "metadata": {},
   "outputs": [],
   "source": []
  }
 ],
 "metadata": {
  "kernelspec": {
   "display_name": "equiformer",
   "language": "python",
   "name": "python3"
  },
  "language_info": {
   "codemirror_mode": {
    "name": "ipython",
    "version": 3
   },
   "file_extension": ".py",
   "mimetype": "text/x-python",
   "name": "python",
   "nbconvert_exporter": "python",
   "pygments_lexer": "ipython3",
   "version": "3.8.13"
  }
 },
 "nbformat": 4,
 "nbformat_minor": 2
}
